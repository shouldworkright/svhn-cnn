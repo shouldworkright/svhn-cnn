{
 "cells": [
  {
   "cell_type": "code",
   "execution_count": 5,
   "metadata": {},
   "outputs": [],
   "source": [
    "import numpy as np\n",
    "import keras\n",
    "from scipy.io import loadmat\n",
    "from sklearn.preprocessing import LabelBinarizer\n",
    "from matplotlib import pyplot as plt"
   ]
  },
  {
   "cell_type": "code",
   "execution_count": 6,
   "metadata": {},
   "outputs": [],
   "source": [
    "train_mat = loadmat('data/train_32x32.mat')\n",
    "test_mat = loadmat('data/test_32x32.mat')\n",
    "\n",
    "#format into np array of float pixels and 1d array of ints for labels\n",
    "train_imgs = np.array(train_mat['X']).astype('float64')\n",
    "train_lbls = np.array(train_mat['y']).flatten()\n",
    "test_imgs = np.array(test_mat['X']).astype('float64')\n",
    "test_lbls = np.array(test_mat['y']).flatten()\n",
    "\n",
    "#Normalize to 0..1\n",
    "train_imgs = train_imgs/255.0\n",
    "test_imgs = test_imgs/255.0\n"
   ]
  },
  {
   "cell_type": "code",
   "execution_count": 7,
   "metadata": {},
   "outputs": [],
   "source": [
    "train_imgs = np.moveaxis(train_imgs, -1, 0)\n",
    "test_imgs = np.moveaxis(test_imgs, -1, 0)"
   ]
  },
  {
   "cell_type": "code",
   "execution_count": 8,
   "metadata": {},
   "outputs": [
    {
     "data": {
      "image/png": "[encoded data removed]",
      "text/plain": [
       "<Figure size 432x288 with 1 Axes>"
      ]
     },
     "metadata": {
      "needs_background": "light"
     },
     "output_type": "display_data"
    },
    {
     "name": "stdout",
     "output_type": "stream",
     "text": [
      "Label:  7\n"
     ]
    }
   ],
   "source": [
    "plt.imshow(train_imgs[2241])\n",
    "plt.show()\n",
    "\n",
    "print('Label: ', train_lbls[2241])"
   ]
  },
  {
   "cell_type": "code",
   "execution_count": 9,
   "metadata": {},
   "outputs": [],
   "source": [
    "binarizer = LabelBinarizer()\n",
    "train_lbls = binarizer.fit_transform(train_lbls)\n",
    "test_lbls = binarizer.fit_transform(test_lbls)"
   ]
  },
  {
   "cell_type": "code",
   "execution_count": null,
   "metadata": {},
   "outputs": [],
   "source": []
  }
 ],
 "metadata": {
  "kernelspec": {
   "display_name": "Python 3",
   "language": "python",
   "name": "python3"
  },
  "language_info": {
   "codemirror_mode": {
    "name": "ipython",
    "version": 3
   },
   "file_extension": ".py",
   "mimetype": "text/x-python",
   "name": "python",
   "nbconvert_exporter": "python",
   "pygments_lexer": "ipython3",
   "version": "3.8.3"
  }
 },
 "nbformat": 4,
 "nbformat_minor": 4
}
