{
 "cells": [
  {
   "cell_type": "code",
   "execution_count": 2,
   "metadata": {},
   "outputs": [
    {
     "ename": "ModuleNotFoundError",
     "evalue": "No module named 'keras'",
     "output_type": "error",
     "traceback": [
      "\u001b[1;31m---------------------------------------------------------------------------\u001b[0m",
      "\u001b[1;31mModuleNotFoundError\u001b[0m                       Traceback (most recent call last)",
      "\u001b[1;32m<ipython-input-2-ee7757a3acd1>\u001b[0m in \u001b[0;36m<module>\u001b[1;34m\u001b[0m\n\u001b[0;32m      1\u001b[0m \u001b[1;32mimport\u001b[0m \u001b[0mnumpy\u001b[0m \u001b[1;32mas\u001b[0m \u001b[0mnp\u001b[0m\u001b[1;33m\u001b[0m\u001b[1;33m\u001b[0m\u001b[0m\n\u001b[0;32m      2\u001b[0m \u001b[1;32mimport\u001b[0m \u001b[0mseaborn\u001b[0m \u001b[1;32mas\u001b[0m \u001b[0msns\u001b[0m\u001b[1;33m\u001b[0m\u001b[1;33m\u001b[0m\u001b[0m\n\u001b[1;32m----> 3\u001b[1;33m \u001b[1;32mfrom\u001b[0m \u001b[0mkeras\u001b[0m \u001b[1;32mimport\u001b[0m \u001b[0mmodels\u001b[0m\u001b[1;33m,\u001b[0m \u001b[0mlayers\u001b[0m\u001b[1;33m,\u001b[0m \u001b[0mcallbacks\u001b[0m\u001b[1;33m,\u001b[0m \u001b[0moptimizers\u001b[0m\u001b[1;33m\u001b[0m\u001b[1;33m\u001b[0m\u001b[0m\n\u001b[0m\u001b[0;32m      4\u001b[0m \u001b[1;32mfrom\u001b[0m \u001b[0mscipy\u001b[0m\u001b[1;33m.\u001b[0m\u001b[0mio\u001b[0m \u001b[1;32mimport\u001b[0m \u001b[0mloadmat\u001b[0m\u001b[1;33m\u001b[0m\u001b[1;33m\u001b[0m\u001b[0m\n\u001b[0;32m      5\u001b[0m \u001b[1;32mfrom\u001b[0m \u001b[0msklearn\u001b[0m\u001b[1;33m.\u001b[0m\u001b[0mpreprocessing\u001b[0m \u001b[1;32mimport\u001b[0m \u001b[0mLabelBinarizer\u001b[0m\u001b[1;33m\u001b[0m\u001b[1;33m\u001b[0m\u001b[0m\n",
      "\u001b[1;31mModuleNotFoundError\u001b[0m: No module named 'keras'"
     ]
    }
   ],
   "source": [
    "import numpy as np\n",
    "import seaborn as sns\n",
    "from keras import models, layers, callbacks, optimizers\n",
    "from scipy.io import loadmat\n",
    "from sklearn.preprocessing import LabelBinarizer\n",
    "from keras.preprocessing.image import ImageDataGenerator\n",
    "from matplotlib import pyplot as plt\n",
    "from sklearn.model_selection import train_test_split\n",
    "from sklearn.metrics import confusion_matrix\n",
    "%matplotlib inline"
   ]
  },
  {
   "cell_type": "code",
   "execution_count": 2,
   "metadata": {},
   "outputs": [],
   "source": [
    "train_mat = loadmat('data/train_32x32.mat')\n",
    "test_mat = loadmat('data/test_32x32.mat')\n",
    "\n",
    "#Format into np array of float pixels and 1d array of ints for labels\n",
    "train_imgs = np.array(train_mat['X']).astype('float64')\n",
    "train_lbls = np.array(train_mat['y']).flatten()\n",
    "test_imgs = np.array(test_mat['X']).astype('float64')\n",
    "test_lbls = np.array(test_mat['y']).flatten()\n",
    "\n",
    "#Normalize to 0..1\n",
    "train_imgs = train_imgs/255.0\n",
    "test_imgs = test_imgs/255.0"
   ]
  },
  {
   "cell_type": "code",
   "execution_count": 3,
   "metadata": {},
   "outputs": [],
   "source": [
    "train_imgs = np.moveaxis(train_imgs, -1, 0)\n",
    "test_imgs = np.moveaxis(test_imgs, -1, 0)"
   ]
  },
  {
   "cell_type": "code",
   "execution_count": 4,
   "metadata": {},
   "outputs": [
    {
     "data": {
      "image/png": "[encoded data removed]",
      "text/plain": [
       "<Figure size 432x288 with 1 Axes>"
      ]
     },
     "metadata": {
      "needs_background": "light"
     },
     "output_type": "display_data"
    },
    {
     "name": "stdout",
     "output_type": "stream",
     "text": [
      "Label:  7\n"
     ]
    }
   ],
   "source": [
    "plt.imshow(train_imgs[2241])\n",
    "plt.show()\n",
    "\n",
    "print('Label: ', train_lbls[2241])"
   ]
  },
  {
   "cell_type": "code",
   "execution_count": 5,
   "metadata": {},
   "outputs": [],
   "source": [
    "#Binarize labels\n",
    "binarizer = LabelBinarizer()\n",
    "train_lbls = binarizer.fit_transform(train_lbls)\n",
    "test_lbls = binarizer.fit_transform(test_lbls)"
   ]
  },
  {
   "cell_type": "code",
   "execution_count": 6,
   "metadata": {},
   "outputs": [
    {
     "name": "stdout",
     "output_type": "stream",
     "text": [
      "(58605, 32, 32, 3) (14652, 32, 32, 3) (58605, 10) (14652, 10)\n"
     ]
    }
   ],
   "source": [
    "X_trn, X_tst, y_trn, y_tst = train_test_split(train_imgs, train_lbls, test_size=0.2, random_state=3)\n",
    "print(X_trn.shape, X_tst.shape, y_trn.shape, y_tst.shape)"
   ]
  },
  {
   "cell_type": "code",
   "execution_count": 7,
   "metadata": {},
   "outputs": [],
   "source": [
    "#CNN Model\n",
    "\n",
    "model = models.Sequential(\n",
    "    [\n",
    "        layers.Conv2D(filters=32, kernel_size=(3, 3), strides=(1, 1), padding='valid', activation='relu', input_shape=(32, 32, 3)),\n",
    "#        layers.BatchNormalization(),\n",
    "#        layers.Conv2D(32, (3, 3), activation='relu'),\n",
    "        layers.MaxPool2D(pool_size=(2, 2), strides=(1, 1), padding='valid'),\n",
    "#        layers.Dropout(0.1),\n",
    "        layers.Conv2D(64, (3, 3), activation='relu'),\n",
    "#        layers.BatchNormalization(),\n",
    "#        layers.Conv2D(64, (3, 3), activation='relu'),\n",
    "        layers.MaxPool2D(pool_size=(2, 2), strides=(1, 1)),\n",
    "#        layers.Dropout(0.2),\n",
    "        layers.Conv2D(128, (3, 3), activation='relu'),\n",
    "#        layers.BatchNormalization(),\n",
    "#        layers.Conv2D(128, (3, 3), activation='relu'),\n",
    "        layers.MaxPool2D(pool_size=(2, 2), strides=(1, 1)),\n",
    "#        layers.Dropout(0.3),\n",
    "        layers.Conv2D(256, (3, 3), activation='relu'),\n",
    "        layers.MaxPool2D(pool_size=(2, 2), strides=(1, 1)),\n",
    "        layers.Flatten(),\n",
    "        layers.Dense(128, activation='relu'),\n",
    "        layers.Dropout(0.3),\n",
    "        layers.Dense(10, activation='softmax')        \n",
    "    ]\n",
    ")"
   ]
  },
  {
   "cell_type": "code",
   "execution_count": 8,
   "metadata": {},
   "outputs": [],
   "source": [
    "#utility functions\n",
    "optimizer = optimizers.Adam(lr=1e-3, amsgrad=True)\n",
    "early_stopping = callbacks.EarlyStopping(monitor='val_loss', min_delta=0.001, patience=5, verbose=1)\n",
    "red_lr = callbacks.ReduceLROnPlateau(monitor='val_loss', factor=0.5, patience=2, min_lr=1e-7, verbose=1)\n",
    "checkpoint = callbacks.ModelCheckpoint('checkpoints/best.hdf5', save_best_only=True, verbose=1)"
   ]
  },
  {
   "cell_type": "code",
   "execution_count": 9,
   "metadata": {},
   "outputs": [],
   "source": [
    "#Define parameters for applying random transformations to train data\n",
    "train_datagen = ImageDataGenerator(\n",
    "    rotation_range=8,\n",
    "    height_shift_range=0.1,\n",
    "    shear_range=0.1,\n",
    "    zoom_range=[0.95, 1.05],\n",
    ")\n",
    "\n",
    "#Generate batches of transformed image data\n",
    "train_generator = train_datagen.flow(X_trn, y_trn, batch_size=250)"
   ]
  },
  {
   "cell_type": "code",
   "execution_count": 10,
   "metadata": {},
   "outputs": [],
   "source": [
    "model.compile(optimizer=optimizer, loss='categorical_crossentropy', metrics=['accuracy'])"
   ]
  },
  {
   "cell_type": "code",
   "execution_count": 11,
   "metadata": {},
   "outputs": [
    {
     "name": "stdout",
     "output_type": "stream",
     "text": [
      "Epoch 1/100\n",
      "235/235 [==============================] - ETA: 0s - loss: 1.4359 - accuracy: 0.5208\n",
      "Epoch 00001: val_loss improved from inf to 0.58681, saving model to checkpoints\\best.hdf5\n",
      "235/235 [==============================] - 993s 4s/step - loss: 1.4359 - accuracy: 0.5208 - val_loss: 0.5868 - val_accuracy: 0.8263\n",
      "Epoch 2/100\n",
      "235/235 [==============================] - ETA: 0s - loss: 0.8000 - accuracy: 0.7497\n",
      "Epoch 00002: val_loss improved from 0.58681 to 0.45726, saving model to checkpoints\\best.hdf5\n",
      "235/235 [==============================] - 963s 4s/step - loss: 0.8000 - accuracy: 0.7497 - val_loss: 0.4573 - val_accuracy: 0.8649\n",
      "Epoch 3/100\n",
      "235/235 [==============================] - ETA: 0s - loss: 0.6645 - accuracy: 0.7937\n",
      "Epoch 00003: val_loss did not improve from 0.45726\n",
      "235/235 [==============================] - 1027s 4s/step - loss: 0.6645 - accuracy: 0.7937 - val_loss: 0.4662 - val_accuracy: 0.8581\n",
      "Epoch 4/100\n",
      "235/235 [==============================] - ETA: 0s - loss: 0.6087 - accuracy: 0.8110\n",
      "Epoch 00004: val_loss improved from 0.45726 to 0.36945, saving model to checkpoints\\best.hdf5\n",
      "235/235 [==============================] - 959s 4s/step - loss: 0.6087 - accuracy: 0.8110 - val_loss: 0.3694 - val_accuracy: 0.8924\n",
      "Epoch 5/100\n",
      "235/235 [==============================] - ETA: 0s - loss: 0.5575 - accuracy: 0.8286\n",
      "Epoch 00005: val_loss improved from 0.36945 to 0.36231, saving model to checkpoints\\best.hdf5\n",
      "235/235 [==============================] - 926s 4s/step - loss: 0.5575 - accuracy: 0.8286 - val_loss: 0.3623 - val_accuracy: 0.8952\n",
      "Epoch 6/100\n",
      "235/235 [==============================] - ETA: 0s - loss: 0.5373 - accuracy: 0.8347\n",
      "Epoch 00006: val_loss improved from 0.36231 to 0.34749, saving model to checkpoints\\best.hdf5\n",
      "235/235 [==============================] - 635s 3s/step - loss: 0.5373 - accuracy: 0.8347 - val_loss: 0.3475 - val_accuracy: 0.8996\n",
      "Epoch 7/100\n",
      "235/235 [==============================] - ETA: 0s - loss: 0.4989 - accuracy: 0.8456\n",
      "Epoch 00007: val_loss improved from 0.34749 to 0.33512, saving model to checkpoints\\best.hdf5\n",
      "235/235 [==============================] - 773s 3s/step - loss: 0.4989 - accuracy: 0.8456 - val_loss: 0.3351 - val_accuracy: 0.9024\n",
      "Epoch 8/100\n",
      "235/235 [==============================] - ETA: 0s - loss: 0.4850 - accuracy: 0.8525\n",
      "Epoch 00008: val_loss improved from 0.33512 to 0.31737, saving model to checkpoints\\best.hdf5\n",
      "235/235 [==============================] - 981s 4s/step - loss: 0.4850 - accuracy: 0.8525 - val_loss: 0.3174 - val_accuracy: 0.9072\n",
      "Epoch 9/100\n",
      "235/235 [==============================] - ETA: 0s - loss: 0.4665 - accuracy: 0.8560\n",
      "Epoch 00009: val_loss did not improve from 0.31737\n",
      "235/235 [==============================] - 812s 3s/step - loss: 0.4665 - accuracy: 0.8560 - val_loss: 0.3183 - val_accuracy: 0.9105\n",
      "Epoch 10/100\n",
      "235/235 [==============================] - ETA: 0s - loss: 0.4527 - accuracy: 0.8610\n",
      "Epoch 00010: ReduceLROnPlateau reducing learning rate to 0.0005000000237487257.\n",
      "\n",
      "Epoch 00010: val_loss did not improve from 0.31737\n",
      "235/235 [==============================] - 743s 3s/step - loss: 0.4527 - accuracy: 0.8610 - val_loss: 0.3237 - val_accuracy: 0.9063\n",
      "Epoch 11/100\n",
      "235/235 [==============================] - ETA: 0s - loss: 0.4122 - accuracy: 0.8731\n",
      "Epoch 00011: val_loss improved from 0.31737 to 0.28383, saving model to checkpoints\\best.hdf5\n",
      "235/235 [==============================] - 622s 3s/step - loss: 0.4122 - accuracy: 0.8731 - val_loss: 0.2838 - val_accuracy: 0.9207\n",
      "Epoch 12/100\n",
      "235/235 [==============================] - ETA: 0s - loss: 0.4043 - accuracy: 0.8756\n",
      "Epoch 00012: val_loss did not improve from 0.28383\n",
      "235/235 [==============================] - 862s 4s/step - loss: 0.4043 - accuracy: 0.8756 - val_loss: 0.2859 - val_accuracy: 0.9185\n",
      "Epoch 13/100\n",
      "235/235 [==============================] - ETA: 0s - loss: 0.3986 - accuracy: 0.8776\n",
      "Epoch 00013: val_loss improved from 0.28383 to 0.28147, saving model to checkpoints\\best.hdf5\n",
      "235/235 [==============================] - 1071s 5s/step - loss: 0.3986 - accuracy: 0.8776 - val_loss: 0.2815 - val_accuracy: 0.9199\n",
      "Epoch 14/100\n",
      "235/235 [==============================] - ETA: 0s - loss: 0.3877 - accuracy: 0.8811\n",
      "Epoch 00014: val_loss improved from 0.28147 to 0.27954, saving model to checkpoints\\best.hdf5\n",
      "235/235 [==============================] - 1044s 4s/step - loss: 0.3877 - accuracy: 0.8811 - val_loss: 0.2795 - val_accuracy: 0.9206\n",
      "Epoch 15/100\n",
      "235/235 [==============================] - ETA: 0s - loss: 0.3893 - accuracy: 0.8812\n",
      "Epoch 00015: val_loss improved from 0.27954 to 0.27793, saving model to checkpoints\\best.hdf5\n",
      "235/235 [==============================] - 897s 4s/step - loss: 0.3893 - accuracy: 0.8812 - val_loss: 0.2779 - val_accuracy: 0.9206\n",
      "Epoch 16/100\n",
      "235/235 [==============================] - ETA: 0s - loss: 0.3767 - accuracy: 0.8842\n",
      "Epoch 00016: val_loss improved from 0.27793 to 0.27450, saving model to checkpoints\\best.hdf5\n",
      "235/235 [==============================] - 875s 4s/step - loss: 0.3767 - accuracy: 0.8842 - val_loss: 0.2745 - val_accuracy: 0.9209\n",
      "Epoch 17/100\n",
      "235/235 [==============================] - ETA: 0s - loss: 0.3684 - accuracy: 0.8882\n",
      "Epoch 00017: val_loss did not improve from 0.27450\n",
      "235/235 [==============================] - 806s 3s/step - loss: 0.3684 - accuracy: 0.8882 - val_loss: 0.2750 - val_accuracy: 0.9229\n",
      "Epoch 18/100\n",
      "235/235 [==============================] - ETA: 0s - loss: 0.3680 - accuracy: 0.8879\n",
      "Epoch 00018: ReduceLROnPlateau reducing learning rate to 0.0002500000118743628.\n",
      "\n",
      "Epoch 00018: val_loss did not improve from 0.27450\n",
      "235/235 [==============================] - 988s 4s/step - loss: 0.3680 - accuracy: 0.8879 - val_loss: 0.2786 - val_accuracy: 0.9205\n",
      "Epoch 19/100\n",
      "235/235 [==============================] - ETA: 0s - loss: 0.3477 - accuracy: 0.8933\n",
      "Epoch 00019: val_loss improved from 0.27450 to 0.27153, saving model to checkpoints\\best.hdf5\n",
      "235/235 [==============================] - 855s 4s/step - loss: 0.3477 - accuracy: 0.8933 - val_loss: 0.2715 - val_accuracy: 0.9229\n",
      "Epoch 20/100\n",
      "235/235 [==============================] - ETA: 0s - loss: 0.3402 - accuracy: 0.8963\n",
      "Epoch 00020: val_loss improved from 0.27153 to 0.26569, saving model to checkpoints\\best.hdf5\n",
      "235/235 [==============================] - 621s 3s/step - loss: 0.3402 - accuracy: 0.8963 - val_loss: 0.2657 - val_accuracy: 0.9262\n",
      "Epoch 21/100\n",
      "235/235 [==============================] - ETA: 0s - loss: 0.3398 - accuracy: 0.8964\n",
      "Epoch 00021: val_loss improved from 0.26569 to 0.26472, saving model to checkpoints\\best.hdf5\n",
      "235/235 [==============================] - 848s 4s/step - loss: 0.3398 - accuracy: 0.8964 - val_loss: 0.2647 - val_accuracy: 0.9260\n",
      "Epoch 22/100\n",
      "235/235 [==============================] - ETA: 0s - loss: 0.3369 - accuracy: 0.8979\n",
      "Epoch 00022: val_loss improved from 0.26472 to 0.26440, saving model to checkpoints\\best.hdf5\n",
      "235/235 [==============================] - 873s 4s/step - loss: 0.3369 - accuracy: 0.8979 - val_loss: 0.2644 - val_accuracy: 0.9262\n",
      "Epoch 23/100\n",
      "235/235 [==============================] - ETA: 0s - loss: 0.3339 - accuracy: 0.8969\n",
      "Epoch 00023: val_loss did not improve from 0.26440\n",
      "235/235 [==============================] - 599s 3s/step - loss: 0.3339 - accuracy: 0.8969 - val_loss: 0.2659 - val_accuracy: 0.9253\n",
      "Epoch 24/100\n",
      "235/235 [==============================] - ETA: 0s - loss: 0.3318 - accuracy: 0.8975\n",
      "Epoch 00024: val_loss improved from 0.26440 to 0.26170, saving model to checkpoints\\best.hdf5\n",
      "235/235 [==============================] - 760s 3s/step - loss: 0.3318 - accuracy: 0.8975 - val_loss: 0.2617 - val_accuracy: 0.9265\n",
      "Epoch 25/100\n",
      "235/235 [==============================] - ETA: 0s - loss: 0.3318 - accuracy: 0.8987\n",
      "Epoch 00025: val_loss did not improve from 0.26170\n",
      "235/235 [==============================] - 1019s 4s/step - loss: 0.3318 - accuracy: 0.8987 - val_loss: 0.2641 - val_accuracy: 0.9271\n",
      "Epoch 26/100\n",
      "235/235 [==============================] - ETA: 0s - loss: 0.3239 - accuracy: 0.8999\n",
      "Epoch 00026: ReduceLROnPlateau reducing learning rate to 0.0001250000059371814.\n",
      "\n",
      "Epoch 00026: val_loss did not improve from 0.26170\n",
      "235/235 [==============================] - 931s 4s/step - loss: 0.3239 - accuracy: 0.8999 - val_loss: 0.2664 - val_accuracy: 0.9256\n"
     ]
    },
    {
     "name": "stdout",
     "output_type": "stream",
     "text": [
      "Epoch 27/100\n",
      "235/235 [==============================] - ETA: 0s - loss: 0.3140 - accuracy: 0.9028\n",
      "Epoch 00027: val_loss did not improve from 0.26170\n",
      "235/235 [==============================] - 745s 3s/step - loss: 0.3140 - accuracy: 0.9028 - val_loss: 0.2626 - val_accuracy: 0.9273\n",
      "Epoch 28/100\n",
      "235/235 [==============================] - ETA: 0s - loss: 0.3163 - accuracy: 0.9034\n",
      "Epoch 00028: val_loss improved from 0.26170 to 0.25854, saving model to checkpoints\\best.hdf5\n",
      "235/235 [==============================] - 718s 3s/step - loss: 0.3163 - accuracy: 0.9034 - val_loss: 0.2585 - val_accuracy: 0.9278\n",
      "Epoch 29/100\n",
      "235/235 [==============================] - ETA: 0s - loss: 0.3147 - accuracy: 0.9025\n",
      "Epoch 00029: val_loss did not improve from 0.25854\n",
      "235/235 [==============================] - 707s 3s/step - loss: 0.3147 - accuracy: 0.9025 - val_loss: 0.2607 - val_accuracy: 0.9280\n",
      "Epoch 30/100\n",
      "235/235 [==============================] - ETA: 0s - loss: 0.3096 - accuracy: 0.9054\n",
      "Epoch 00030: ReduceLROnPlateau reducing learning rate to 6.25000029685907e-05.\n",
      "\n",
      "Epoch 00030: val_loss did not improve from 0.25854\n",
      "235/235 [==============================] - 731s 3s/step - loss: 0.3096 - accuracy: 0.9054 - val_loss: 0.2650 - val_accuracy: 0.9257\n",
      "Epoch 31/100\n",
      "235/235 [==============================] - ETA: 0s - loss: 0.3070 - accuracy: 0.9047\n",
      "Epoch 00031: val_loss did not improve from 0.25854\n",
      "235/235 [==============================] - 765s 3s/step - loss: 0.3070 - accuracy: 0.9047 - val_loss: 0.2608 - val_accuracy: 0.9281\n",
      "Epoch 32/100\n",
      "235/235 [==============================] - ETA: 0s - loss: 0.3035 - accuracy: 0.9063\n",
      "Epoch 00032: ReduceLROnPlateau reducing learning rate to 3.125000148429535e-05.\n",
      "\n",
      "Epoch 00032: val_loss did not improve from 0.25854\n",
      "235/235 [==============================] - 710s 3s/step - loss: 0.3035 - accuracy: 0.9063 - val_loss: 0.2597 - val_accuracy: 0.9279\n",
      "Epoch 33/100\n",
      "235/235 [==============================] - ETA: 0s - loss: 0.3037 - accuracy: 0.9064\n",
      "Epoch 00033: val_loss improved from 0.25854 to 0.25770, saving model to checkpoints\\best.hdf5\n",
      "235/235 [==============================] - 711s 3s/step - loss: 0.3037 - accuracy: 0.9064 - val_loss: 0.2577 - val_accuracy: 0.9289\n",
      "Epoch 00033: early stopping\n"
     ]
    }
   ],
   "source": [
    "history = model.fit(train_generator, epochs=100, validation_data=(X_tst, y_tst), callbacks=[early_stopping, red_lr, checkpoint])"
   ]
  },
  {
   "cell_type": "code",
   "execution_count": 12,
   "metadata": {},
   "outputs": [
    {
     "data": {
      "image/png": "[encoded data removed]",
      "text/plain": [
       "<Figure size 432x288 with 1 Axes>"
      ]
     },
     "metadata": {
      "needs_background": "light"
     },
     "output_type": "display_data"
    }
   ],
   "source": [
    "plt.plot(history.history['accuracy'], label='Accuracy')\n",
    "plt.plot(history.history['val_accuracy'], label='Validation Accuracy')\n",
    "plt.title('Training Accuracy and Validation')\n",
    "plt.xlabel('Epoch')\n",
    "plt.ylabel('Accuracy')\n",
    "plt.legend(loc='lower right')\n",
    "plt.show()"
   ]
  },
  {
   "cell_type": "code",
   "execution_count": 13,
   "metadata": {},
   "outputs": [
    {
     "data": {
      "image/png": "[encoded data removed]",
      "text/plain": [
       "<Figure size 432x288 with 1 Axes>"
      ]
     },
     "metadata": {
      "needs_background": "light"
     },
     "output_type": "display_data"
    }
   ],
   "source": [
    "plt.plot(history.history['loss'], label='Loss')\n",
    "plt.plot(history.history['val_loss'], label='Validation Loss')\n",
    "plt.title('Training Loss and Validation')\n",
    "plt.xlabel('Epoch')\n",
    "plt.ylabel('Loss')\n",
    "plt.legend(loc='upper right')\n",
    "plt.show()"
   ]
  },
  {
   "cell_type": "code",
   "execution_count": 14,
   "metadata": {},
   "outputs": [
    {
     "name": "stdout",
     "output_type": "stream",
     "text": [
      "814/814 [==============================] - 87s 106ms/step - loss: 0.2704 - accuracy: 0.9252\n",
      "Accuracy: 0.9252074360847473, Loss: 0.2704070806503296\n"
     ]
    }
   ],
   "source": [
    "test_loss, test_accuracy = model.evaluate(test_imgs, test_lbls, verbose=1)\n",
    "print('Accuracy: %s, Loss: %s' %(test_accuracy, test_loss))"
   ]
  },
  {
   "cell_type": "code",
   "execution_count": 15,
   "metadata": {},
   "outputs": [
    {
     "name": "stdout",
     "output_type": "stream",
     "text": [
      "WARNING:tensorflow:From <ipython-input-15-ef0ac6267aba>:1: Sequential.predict_classes (from tensorflow.python.keras.engine.sequential) is deprecated and will be removed after 2021-01-01.\n",
      "Instructions for updating:\n",
      "Please use instead:* `np.argmax(model.predict(x), axis=-1)`,   if your model does multi-class classification   (e.g. if it uses a `softmax` last-layer activation).* `(model.predict(x) > 0.5).astype(\"int32\")`,   if your model does binary classification   (e.g. if it uses a `sigmoid` last-layer activation).\n"
     ]
    }
   ],
   "source": [
    "predictions = model.predict_classes(test_imgs)\n",
    "test_labels = np.argmax(test_lbls, axis=1)"
   ]
  },
  {
   "cell_type": "code",
   "execution_count": 1,
   "metadata": {},
   "outputs": [
    {
     "ename": "NameError",
     "evalue": "name 'confusion_matrix' is not defined",
     "output_type": "error",
     "traceback": [
      "\u001b[1;31m---------------------------------------------------------------------------\u001b[0m",
      "\u001b[1;31mNameError\u001b[0m                                 Traceback (most recent call last)",
      "\u001b[1;32m<ipython-input-1-886ef3498688>\u001b[0m in \u001b[0;36m<module>\u001b[1;34m\u001b[0m\n\u001b[1;32m----> 1\u001b[1;33m \u001b[0mcm\u001b[0m \u001b[1;33m=\u001b[0m \u001b[0mconfusion_matrix\u001b[0m\u001b[1;33m(\u001b[0m\u001b[0mtest_labels\u001b[0m\u001b[1;33m,\u001b[0m \u001b[0mpredictions\u001b[0m\u001b[1;33m)\u001b[0m\u001b[1;33m\u001b[0m\u001b[1;33m\u001b[0m\u001b[0m\n\u001b[0m\u001b[0;32m      2\u001b[0m \u001b[0mfig\u001b[0m\u001b[1;33m,\u001b[0m \u001b[0max\u001b[0m \u001b[1;33m=\u001b[0m \u001b[0mplt\u001b[0m\u001b[1;33m.\u001b[0m\u001b[0msubplots\u001b[0m\u001b[1;33m(\u001b[0m\u001b[0mfigsize\u001b[0m\u001b[1;33m=\u001b[0m\u001b[1;33m(\u001b[0m\u001b[1;36m12\u001b[0m\u001b[1;33m,\u001b[0m\u001b[1;36m12\u001b[0m\u001b[1;33m)\u001b[0m\u001b[1;33m)\u001b[0m\u001b[1;33m\u001b[0m\u001b[1;33m\u001b[0m\u001b[0m\n\u001b[0;32m      3\u001b[0m \u001b[0msns\u001b[0m\u001b[1;33m.\u001b[0m\u001b[0mheatmap\u001b[0m\u001b[1;33m(\u001b[0m\u001b[0mcm\u001b[0m\u001b[1;33m,\u001b[0m \u001b[0mcmap\u001b[0m\u001b[1;33m=\u001b[0m\u001b[1;34m'Reds'\u001b[0m\u001b[1;33m,\u001b[0m \u001b[0mlinewidth\u001b[0m\u001b[1;33m=\u001b[0m\u001b[1;36m0.5\u001b[0m\u001b[1;33m,\u001b[0m \u001b[0mlinecolor\u001b[0m\u001b[1;33m=\u001b[0m\u001b[1;34m'Black'\u001b[0m\u001b[1;33m,\u001b[0m \u001b[0mannot\u001b[0m\u001b[1;33m=\u001b[0m\u001b[1;32mTrue\u001b[0m\u001b[1;33m,\u001b[0m \u001b[0mfmt\u001b[0m\u001b[1;33m=\u001b[0m\u001b[1;34m\"d\"\u001b[0m\u001b[1;33m)\u001b[0m\u001b[1;33m.\u001b[0m\u001b[0mset\u001b[0m\u001b[1;33m(\u001b[0m\u001b[0mtitle\u001b[0m\u001b[1;33m=\u001b[0m\u001b[1;34m\"Validation Cofusion Matrix\"\u001b[0m\u001b[1;33m)\u001b[0m\u001b[1;33m\u001b[0m\u001b[1;33m\u001b[0m\u001b[0m\n",
      "\u001b[1;31mNameError\u001b[0m: name 'confusion_matrix' is not defined"
     ]
    }
   ],
   "source": [
    "cm = confusion_matrix(test_labels, predictions)\n",
    "fig, ax = plt.subplots(figsize=(12,12))\n",
    "sns.heatmap(cm, cmap='Reds', linewidth=0.5, linecolor='Black', annot=True, fmt=\"d\").set(title=\"Validation Cofusion Matrix\")"
   ]
  },
  {
   "cell_type": "code",
   "execution_count": null,
   "metadata": {},
   "outputs": [],
   "source": []
  }
 ],
 "metadata": {
  "kernelspec": {
   "display_name": "Python 3",
   "language": "python",
   "name": "python3"
  },
  "language_info": {
   "codemirror_mode": {
    "name": "ipython",
    "version": 3
   },
   "file_extension": ".py",
   "mimetype": "text/x-python",
   "name": "python",
   "nbconvert_exporter": "python",
   "pygments_lexer": "ipython3",
   "version": "3.8.5"
  },
  "widgets": {
   "application/vnd.jupyter.widget-state+json": {
    "state": {},
    "version_major": 2,
    "version_minor": 0
   }
  }
 },
 "nbformat": 4,
 "nbformat_minor": 4
}
